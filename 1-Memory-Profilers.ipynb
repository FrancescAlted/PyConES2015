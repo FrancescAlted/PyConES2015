{
 "cells": [
  {
   "cell_type": "markdown",
   "metadata": {},
   "source": [
    "# Introduction to Memory Profiling"
   ]
  },
  {
   "cell_type": "markdown",
   "metadata": {},
   "source": [
    "> Objectives:\n",
    "> * Be introduced to memory profiling using different tools\n",
    "> * Some small introduction to time profiling in IPython too\n"
   ]
  },
  {
   "cell_type": "markdown",
   "metadata": {},
   "source": [
    "## ipython_memwatcher"
   ]
  },
  {
   "cell_type": "markdown",
   "metadata": {},
   "source": [
    "Our recommended way to profile memory consumption for this tutorial will be [ipython_memwatcher](https://pypi.python.org/pypi/ipython_memwatcher):\n"
   ]
  },
  {
   "cell_type": "code",
   "execution_count": 1,
   "metadata": {
    "collapsed": false
   },
   "outputs": [
    {
     "name": "stdout",
     "output_type": "stream",
     "text": [
      "In [1] used 0.023 MiB RAM in 0.001s, peaked 0.000 MiB above current, total RAM usage 31.688 MiB\n"
     ]
    }
   ],
   "source": [
    "from ipython_memwatcher import MemWatcher\n",
    "mw = MemWatcher()\n",
    "mw.start_watching_memory()"
   ]
  },
  {
   "cell_type": "code",
   "execution_count": 2,
   "metadata": {
    "collapsed": false
   },
   "outputs": [
    {
     "name": "stdout",
     "output_type": "stream",
     "text": [
      "In [2] used 31.129 MiB RAM in 0.074s, peaked 0.000 MiB above current, total RAM usage 62.816 MiB\n"
     ]
    }
   ],
   "source": [
    "# Let's create a big object\n",
    "a = [i for i in range(1000*1000)]"
   ]
  },
  {
   "cell_type": "code",
   "execution_count": 3,
   "metadata": {
    "collapsed": false
   },
   "outputs": [
    {
     "data": {
      "text/plain": [
       "Measurements(memory_delta=31.12890625, time_delta=0.07414698600769043, memory_peak=0, memory_usage=62.81640625)"
      ]
     },
     "execution_count": 3,
     "metadata": {},
     "output_type": "execute_result"
    },
    {
     "name": "stdout",
     "output_type": "stream",
     "text": [
      "In [3] used 0.062 MiB RAM in 0.009s, peaked 0.000 MiB above current, total RAM usage 62.879 MiB\n"
     ]
    }
   ],
   "source": [
    "# Get some measurements from the last executed cell:\n",
    "meas = mw.measurements\n",
    "meas"
   ]
  },
  {
   "cell_type": "code",
   "execution_count": 4,
   "metadata": {
    "collapsed": false
   },
   "outputs": [
    {
     "data": {
      "text/plain": [
       "31.12890625"
      ]
     },
     "execution_count": 4,
     "metadata": {},
     "output_type": "execute_result"
    },
    {
     "name": "stdout",
     "output_type": "stream",
     "text": [
      "In [4] used 0.012 MiB RAM in 0.046s, peaked 0.000 MiB above current, total RAM usage 62.891 MiB\n"
     ]
    }
   ],
   "source": [
    "# MemWatcher.measurements is a named tuple.  We can easily get info out of it:\n",
    "meas.memory_delta"
   ]
  },
  {
   "cell_type": "code",
   "execution_count": 5,
   "metadata": {
    "collapsed": false
   },
   "outputs": [
    {
     "data": {
      "text/plain": [
       "32.641024"
      ]
     },
     "execution_count": 5,
     "metadata": {},
     "output_type": "execute_result"
    },
    {
     "name": "stdout",
     "output_type": "stream",
     "text": [
      "In [5] used 2.020 MiB RAM in 0.021s, peaked 0.000 MiB above current, total RAM usage 64.910 MiB\n"
     ]
    }
   ],
   "source": [
    "# This takes between 32 ~ 35 bytes per element:\n",
    "meas.memory_delta * (2**20) / 1e6"
   ]
  },
  {
   "cell_type": "code",
   "execution_count": 6,
   "metadata": {
    "collapsed": false
   },
   "outputs": [
    {
     "data": {
      "text/plain": [
       "int"
      ]
     },
     "execution_count": 6,
     "metadata": {},
     "output_type": "execute_result"
    },
    {
     "name": "stdout",
     "output_type": "stream",
     "text": [
      "In [6] used 0.027 MiB RAM in 0.011s, peaked 0.000 MiB above current, total RAM usage 64.938 MiB\n"
     ]
    }
   ],
   "source": [
    "# What are these elements made from?\n",
    "type(a[0])"
   ]
  },
  {
   "cell_type": "code",
   "execution_count": 7,
   "metadata": {
    "collapsed": false
   },
   "outputs": [
    {
     "data": {
      "text/plain": [
       "24"
      ]
     },
     "execution_count": 7,
     "metadata": {},
     "output_type": "execute_result"
    },
    {
     "name": "stdout",
     "output_type": "stream",
     "text": [
      "In [7] used 0.027 MiB RAM in 0.030s, peaked 0.000 MiB above current, total RAM usage 64.965 MiB\n"
     ]
    }
   ],
   "source": [
    "# How much memory take an int?\n",
    "# Beware: the size below will depend on whether you are using a 32-bit or 64-bit Python\n",
    "import sys\n",
    "sys.getsizeof(a[0])"
   ]
  },
  {
   "cell_type": "markdown",
   "metadata": {},
   "source": [
    "Ok.  On 64-bits, that means that the int object allocates 8 bytes for the integer value, and 16 bytes for other metadata (Python object).  But 24 is quite less than 32~35.  Where this overhead comes from?\n",
    "\n",
    "Well, it turns out that the list structure needs additional pointers to reference the different components. [Explain with some diagrams]"
   ]
  },
  {
   "cell_type": "markdown",
   "metadata": {},
   "source": [
    "## memory_profiler"
   ]
  },
  {
   "cell_type": "markdown",
   "metadata": {},
   "source": [
    "[memory_profiler](https://pypi.python.org/pypi/memory_profiler) is a basic module for memory profiling that many others use (like the `ipython_memwatcher` above) and it interacts well with ipython, so it is worth to see how it works:"
   ]
  },
  {
   "cell_type": "code",
   "execution_count": 8,
   "metadata": {
    "collapsed": false
   },
   "outputs": [
    {
     "name": "stdout",
     "output_type": "stream",
     "text": [
      "In [8] used 0.035 MiB RAM in 0.002s, peaked 0.000 MiB above current, total RAM usage 65.000 MiB\n"
     ]
    }
   ],
   "source": [
    "%load_ext memory_profiler"
   ]
  },
  {
   "cell_type": "code",
   "execution_count": 9,
   "metadata": {
    "collapsed": false
   },
   "outputs": [
    {
     "name": "stdout",
     "output_type": "stream",
     "text": [
      "peak memory: 137.08 MiB, increment: 72.08 MiB\n",
      "In [9] used 72.238 MiB RAM in 0.343s, peaked 0.000 MiB above current, total RAM usage 137.238 MiB\n"
     ]
    }
   ],
   "source": [
    "# Use %memit magic command exposed by memory_profiler\n",
    "%memit b = [i for i in range(1000*1000)]"
   ]
  },
  {
   "cell_type": "markdown",
   "metadata": {},
   "source": [
    "Please note that the `peak_memory` in this case is different than the `peaked_memory` reported by ipython_memwatcher package."
   ]
  },
  {
   "cell_type": "markdown",
   "metadata": {},
   "source": [
    "## Guppy"
   ]
  },
  {
   "cell_type": "markdown",
   "metadata": {},
   "source": [
    "Guppy is nice for having an overview of how different structures are using our memory:"
   ]
  },
  {
   "cell_type": "code",
   "execution_count": 10,
   "metadata": {
    "collapsed": false
   },
   "outputs": [
    {
     "data": {
      "text/plain": [
       "Partition of a set of 2128768 objects. Total size = 81935440 bytes.\n",
       " Index  Count   %     Size   % Cumulative  % Kind (class / dict of class)\n",
       "     0 2002854  94 48068496  59  48068496  59 int\n",
       "     1   1233   0 16443528  20  64512024  79 list\n",
       "     2  58642   3  5120120   6  69632144  85 str\n",
       "     3  31176   1  2673888   3  72306032  88 tuple\n",
       "     4   1611   0  1697544   2  74003576  90 dict (no owner)\n",
       "     5    463   0  1331560   2  75335136  92 dict of module\n",
       "     6   8024   0  1027072   1  76362208  93 types.CodeType\n",
       "     7   7865   0   943800   1  77306008  94 function\n",
       "     8    941   0   847816   1  78153824  95 type\n",
       "     9    941   0   765752   1  78919576  96 dict of type\n",
       "<572 more rows. Type e.g. '_.more' to view.>"
      ]
     },
     "execution_count": 10,
     "metadata": {},
     "output_type": "execute_result"
    },
    {
     "name": "stdout",
     "output_type": "stream",
     "text": [
      "In [10] used 52.184 MiB RAM in 3.407s, peaked 12.969 MiB above current, total RAM usage 189.422 MiB\n"
     ]
    }
   ],
   "source": [
    "from guppy import hpy; hp=hpy()\n",
    "hp.heap()"
   ]
  },
  {
   "cell_type": "code",
   "execution_count": 11,
   "metadata": {
    "collapsed": false
   },
   "outputs": [
    {
     "data": {
      "text/plain": [
       "Partition of a set of 1128965 objects. Total size = 49809456 bytes.\n",
       " Index  Count   %     Size   % Cumulative  % Kind (class / dict of class)\n",
       "     0 1003108  89 24074592  48  24074592  48 int\n",
       "     1   1222   0  8316272  17  32390864  65 list\n",
       "     2  58643   5  5120248  10  37511112  75 str\n",
       "     3  31176   3  2673912   5  40185024  81 tuple\n",
       "     4   1613   0  1699640   3  41884664  84 dict (no owner)\n",
       "     5    463   0  1331560   3  43216224  87 dict of module\n",
       "     6   8024   1  1027072   2  44243296  89 types.CodeType\n",
       "     7   7864   1   943680   2  45186976  91 function\n",
       "     8    941   0   847816   2  46034792  92 type\n",
       "     9    941   0   765752   2  46800544  94 dict of type\n",
       "<568 more rows. Type e.g. '_.more' to view.>"
      ]
     },
     "execution_count": 11,
     "metadata": {},
     "output_type": "execute_result"
    },
    {
     "name": "stdout",
     "output_type": "stream",
     "text": [
      "In [11] used -0.184 MiB RAM in 0.765s, peaked 0.000 MiB above current, total RAM usage 189.238 MiB\n"
     ]
    }
   ],
   "source": [
    "del b\n",
    "hp.heap()"
   ]
  },
  {
   "cell_type": "code",
   "execution_count": 12,
   "metadata": {
    "collapsed": false
   },
   "outputs": [
    {
     "data": {
      "text/plain": [
       "Partition of a set of 1 object. Total size = 8126536 bytes.\n",
       " Index  Count   %     Size   % Cumulative  % Kind (class / dict of class)\n",
       "     0      1 100  8126536 100   8126536 100 list"
      ]
     },
     "execution_count": 12,
     "metadata": {},
     "output_type": "execute_result"
    },
    {
     "name": "stdout",
     "output_type": "stream",
     "text": [
      "In [12] used -0.016 MiB RAM in 0.106s, peaked 0.000 MiB above current, total RAM usage 189.223 MiB\n"
     ]
    }
   ],
   "source": [
    "# Size of the list (beware, this does not include the contents!)\n",
    "hp.iso(a)"
   ]
  },
  {
   "cell_type": "markdown",
   "metadata": {
    "collapsed": true
   },
   "source": [
    "## %time and %timeit"
   ]
  },
  {
   "cell_type": "code",
   "execution_count": 13,
   "metadata": {
    "collapsed": false
   },
   "outputs": [
    {
     "name": "stdout",
     "output_type": "stream",
     "text": [
      "CPU times: user 12 ms, sys: 0 ns, total: 12 ms\n",
      "Wall time: 11.8 ms\n",
      "In [13] used 0.000 MiB RAM in 0.019s, peaked 0.000 MiB above current, total RAM usage 189.223 MiB\n"
     ]
    }
   ],
   "source": [
    "# IPython provides a magic command to see how much time a command takes to run\n",
    "%time asum = sum(a)"
   ]
  },
  {
   "cell_type": "markdown",
   "metadata": {},
   "source": [
    "Note that `%time` offers quite detailed statistics on the time spent.\n",
    "\n",
    "Also, the time reported by MemoryWatcher has a typical overhead of 3~10 ms over the time reported by %time, so when the times to measure are about this order then it is better to rely on the %time (or %timeit below) values.  "
   ]
  },
  {
   "cell_type": "code",
   "execution_count": 14,
   "metadata": {
    "collapsed": false
   },
   "outputs": [
    {
     "name": "stdout",
     "output_type": "stream",
     "text": [
      "100 loops, best of 3: 6.92 ms per loop\n",
      "In [14] used 0.035 MiB RAM in 2.937s, peaked 0.000 MiB above current, total RAM usage 189.258 MiB\n"
     ]
    }
   ],
   "source": [
    "# We have another way to measure timings doing several loops and getting the mean\n",
    "%timeit bsum = sum(a)\n",
    "# However, one must notice that %timeit does not return the result of expressions"
   ]
  },
  {
   "cell_type": "markdown",
   "metadata": {},
   "source": [
    "Interestingly, %timeit allows to retrieve the measured times in loops with the -o flag:"
   ]
  },
  {
   "cell_type": "code",
   "execution_count": 15,
   "metadata": {
    "collapsed": false
   },
   "outputs": [
    {
     "name": "stdout",
     "output_type": "stream",
     "text": [
      "100 loops, best of 3: 7 ms per loop\n",
      "[0.7001528739929199, 0.7139549255371094, 0.7227981090545654]\n",
      "0.00700152873993\n",
      "In [15] used 0.004 MiB RAM in 3.036s, peaked 0.000 MiB above current, total RAM usage 189.262 MiB\n"
     ]
    }
   ],
   "source": [
    "t = %timeit -o sum(a)\n",
    "print(t.all_runs)\n",
    "print(t.best)"
   ]
  },
  {
   "cell_type": "markdown",
   "metadata": {},
   "source": [
    "And one can specify the number of loops (-n) and the number of repetitions (-r):"
   ]
  },
  {
   "cell_type": "code",
   "execution_count": 16,
   "metadata": {
    "collapsed": false
   },
   "outputs": [
    {
     "name": "stdout",
     "output_type": "stream",
     "text": [
      "1 loops, best of 1: 14.5 ms per loop\n",
      "[0.014538049697875977]\n",
      "0.0145380496979\n",
      "In [16] used 0.000 MiB RAM in 0.112s, peaked 0.000 MiB above current, total RAM usage 189.262 MiB\n"
     ]
    }
   ],
   "source": [
    "t = %timeit -r1 -n1 -o sum(a)\n",
    "print(t.all_runs)\n",
    "print(t.best)"
   ]
  },
  {
   "cell_type": "markdown",
   "metadata": {},
   "source": [
    "### Exercise 1\n",
    "\n",
    "Provided a dictionary like:\n",
    "\n",
    "```\n",
    "d = dict((\"key: %i\"%i, i*2) for i in a)\n",
    "```\n",
    "\n",
    "Try to guess how much RAM it uses using the techniques introduced above.\n",
    "\n",
    "Why do you think it takes more space than a list?\n",
    "\n",
    "*Hint*: Every entry in a dictionary has pointers to two objects: key and value. "
   ]
  },
  {
   "cell_type": "markdown",
   "metadata": {
    "collapsed": true
   },
   "source": [
    "## Solution"
   ]
  },
  {
   "cell_type": "code",
   "execution_count": 17,
   "metadata": {
    "collapsed": false
   },
   "outputs": [
    {
     "name": "stdout",
     "output_type": "stream",
     "text": [
      "In [17] used 100.930 MiB RAM in 0.936s, peaked 0.000 MiB above current, total RAM usage 290.191 MiB\n"
     ]
    }
   ],
   "source": [
    "d = dict((\"key: %i\"%i, i*2) for i in a)"
   ]
  },
  {
   "cell_type": "code",
   "execution_count": 18,
   "metadata": {
    "collapsed": false
   },
   "outputs": [
    {
     "data": {
      "text/plain": [
       "72"
      ]
     },
     "execution_count": 18,
     "metadata": {},
     "output_type": "execute_result"
    },
    {
     "name": "stdout",
     "output_type": "stream",
     "text": [
      "In [18] used 0.012 MiB RAM in 0.004s, peaked 0.000 MiB above current, total RAM usage 290.203 MiB\n"
     ]
    }
   ],
   "source": [
    "# Compute the size of key + value\n",
    "sys.getsizeof(\"key: 100000\") + sys.getsizeof(1)"
   ]
  },
  {
   "cell_type": "code",
   "execution_count": 19,
   "metadata": {
    "collapsed": false
   },
   "outputs": [
    {
     "data": {
      "text/plain": [
       "83.92333984375"
      ]
     },
     "execution_count": 19,
     "metadata": {},
     "output_type": "execute_result"
    },
    {
     "name": "stdout",
     "output_type": "stream",
     "text": [
      "In [19] used 0.000 MiB RAM in 0.006s, peaked 0.000 MiB above current, total RAM usage 290.203 MiB\n"
     ]
    }
   ],
   "source": [
    "# Compute the size of a key + value + pointers for all elements in MB\n",
    "(sys.getsizeof(\"key: 100000\") + sys.getsizeof(1) + 16) * 1000*1000 / 2**20."
   ]
  },
  {
   "cell_type": "code",
   "execution_count": 20,
   "metadata": {
    "collapsed": false
   },
   "outputs": [
    {
     "data": {
      "text/plain": [
       "Partition of a set of 1 object. Total size = 50331928 bytes.\n",
       " Index  Count   %     Size   % Cumulative  % Kind (class / dict of class)\n",
       "     0      1 100 50331928 100  50331928 100 dict (no owner)"
      ]
     },
     "execution_count": 20,
     "metadata": {},
     "output_type": "execute_result"
    },
    {
     "name": "stdout",
     "output_type": "stream",
     "text": [
      "In [20] used 0.008 MiB RAM in 0.586s, peaked 0.000 MiB above current, total RAM usage 290.211 MiB\n"
     ]
    }
   ],
   "source": [
    "# Using guppy\n",
    "hp.iso(d)"
   ]
  },
  {
   "cell_type": "markdown",
   "metadata": {},
   "source": [
    "So, guppy is telling us that just the dictionary structure is taking ~50 MB, whereas the contents alone are taking ~70MB, so we should have expected the dictionary to consume ~120 MB.  However, our `MemWatcher` instance is reporting just ~100 MB.  Take away lesson: measuring memory consumption in Python is tricky but using proper tools we can still get valuable hints!"
   ]
  },
  {
   "cell_type": "code",
   "execution_count": null,
   "metadata": {
    "collapsed": true
   },
   "outputs": [],
   "source": []
  }
 ],
 "metadata": {
  "kernelspec": {
   "display_name": "Python 2",
   "language": "python",
   "name": "python2"
  },
  "language_info": {
   "codemirror_mode": {
    "name": "ipython",
    "version": 2
   },
   "file_extension": ".py",
   "mimetype": "text/x-python",
   "name": "python",
   "nbconvert_exporter": "python",
   "pygments_lexer": "ipython2",
   "version": "2.7.10"
  }
 },
 "nbformat": 4,
 "nbformat_minor": 0
}
