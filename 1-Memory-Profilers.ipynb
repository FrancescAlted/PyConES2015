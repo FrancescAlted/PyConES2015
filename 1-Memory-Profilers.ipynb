{
 "cells": [
  {
   "cell_type": "markdown",
   "metadata": {},
   "source": [
    "# Introduction to Memory Profiling"
   ]
  },
  {
   "cell_type": "markdown",
   "metadata": {},
   "source": [
    "> Objectives:\n",
    "> * Be introduced to memory profiling using different tools\n",
    "> * Some small introduction to time profiling in IPython too\n"
   ]
  },
  {
   "cell_type": "markdown",
   "metadata": {},
   "source": [
    "## ipython_memwatcher"
   ]
  },
  {
   "cell_type": "markdown",
   "metadata": {},
   "source": [
    "Our recommended way to profile memory consumption for this tutorial will be [ipython_memwatcher](https://pypi.python.org/pypi/ipython_memwatcher):\n"
   ]
  },
  {
   "cell_type": "code",
   "execution_count": 1,
   "metadata": {
    "collapsed": false
   },
   "outputs": [
    {
     "name": "stdout",
     "output_type": "stream",
     "text": [
      "In [1] used 0.020 MiB RAM in 0.001s, peaked 0.000 MiB above current, total RAM usage 31.703 MiB\n"
     ]
    }
   ],
   "source": [
    "from ipython_memwatcher import MemWatcher\n",
    "mw = MemWatcher()\n",
    "mw.start_watching_memory()"
   ]
  },
  {
   "cell_type": "code",
   "execution_count": 2,
   "metadata": {
    "collapsed": false
   },
   "outputs": [
    {
     "name": "stdout",
     "output_type": "stream",
     "text": [
      "In [2] used 31.199 MiB RAM in 0.106s, peaked 0.996 MiB above current, total RAM usage 62.902 MiB\n"
     ]
    }
   ],
   "source": [
    "# Let's create a big object\n",
    "a = [i for i in range(1000*1000)]"
   ]
  },
  {
   "cell_type": "code",
   "execution_count": 3,
   "metadata": {
    "collapsed": false
   },
   "outputs": [
    {
     "data": {
      "text/plain": [
       "Measurements(memory_delta=31.19921875, time_delta=0.10560011863708496, memory_peak=0.99609375, memory_usage=62.90234375)"
      ]
     },
     "execution_count": 3,
     "metadata": {},
     "output_type": "execute_result"
    },
    {
     "name": "stdout",
     "output_type": "stream",
     "text": [
      "In [3] used 0.062 MiB RAM in 0.009s, peaked 0.000 MiB above current, total RAM usage 62.965 MiB\n"
     ]
    }
   ],
   "source": [
    "# Get some measurements from the last executed cell:\n",
    "meas = mw.measurements\n",
    "meas"
   ]
  },
  {
   "cell_type": "code",
   "execution_count": 4,
   "metadata": {
    "collapsed": false
   },
   "outputs": [
    {
     "data": {
      "text/plain": [
       "31.19921875"
      ]
     },
     "execution_count": 4,
     "metadata": {},
     "output_type": "execute_result"
    },
    {
     "name": "stdout",
     "output_type": "stream",
     "text": [
      "In [4] used 2.020 MiB RAM in 0.105s, peaked 0.000 MiB above current, total RAM usage 64.984 MiB\n"
     ]
    }
   ],
   "source": [
    "# MemWatcher.measurements is a named tuple.  We can easily get info out of it:\n",
    "meas.memory_delta"
   ]
  },
  {
   "cell_type": "code",
   "execution_count": 5,
   "metadata": {
    "collapsed": false
   },
   "outputs": [
    {
     "data": {
      "text/plain": [
       "32.714752"
      ]
     },
     "execution_count": 5,
     "metadata": {},
     "output_type": "execute_result"
    },
    {
     "name": "stdout",
     "output_type": "stream",
     "text": [
      "In [5] used -1.965 MiB RAM in 0.002s, peaked 1.965 MiB above current, total RAM usage 63.020 MiB\n"
     ]
    }
   ],
   "source": [
    "# This takes between 32 ~ 35 bytes per element:\n",
    "meas.memory_delta * (2**20) / 1e6"
   ]
  },
  {
   "cell_type": "code",
   "execution_count": 6,
   "metadata": {
    "collapsed": false
   },
   "outputs": [
    {
     "data": {
      "text/plain": [
       "int"
      ]
     },
     "execution_count": 6,
     "metadata": {},
     "output_type": "execute_result"
    },
    {
     "name": "stdout",
     "output_type": "stream",
     "text": [
      "In [6] used 0.000 MiB RAM in 0.012s, peaked 0.000 MiB above current, total RAM usage 63.020 MiB\n"
     ]
    }
   ],
   "source": [
    "# What are these elements made from?\n",
    "type(a[0])"
   ]
  },
  {
   "cell_type": "code",
   "execution_count": 7,
   "metadata": {
    "collapsed": false
   },
   "outputs": [
    {
     "data": {
      "text/plain": [
       "24"
      ]
     },
     "execution_count": 7,
     "metadata": {},
     "output_type": "execute_result"
    },
    {
     "name": "stdout",
     "output_type": "stream",
     "text": [
      "In [7] used 0.008 MiB RAM in 0.003s, peaked 0.000 MiB above current, total RAM usage 63.027 MiB\n"
     ]
    }
   ],
   "source": [
    "# How much memory take an int?\n",
    "# Beware: the size below will depend on whether you are using a 32-bit or 64-bit Python\n",
    "import sys\n",
    "sys.getsizeof(a[0])"
   ]
  },
  {
   "cell_type": "markdown",
   "metadata": {},
   "source": [
    "Ok.  On 64-bits, that means that the int object allocates 8 bytes for the integer value, and 16 bytes for other metadata (Python object).  But 24 is quite less than 32~35.  Where this overhead comes from?\n",
    "\n",
    "Well, it turns out that the list structure needs additional pointers to reference the different components. [Explain with some diagrams]"
   ]
  },
  {
   "cell_type": "markdown",
   "metadata": {},
   "source": [
    "## memory_profiler"
   ]
  },
  {
   "cell_type": "markdown",
   "metadata": {},
   "source": [
    "[memory_profiler](https://pypi.python.org/pypi/memory_profiler) is a basic module for memory profiling that many others use (like the `ipython_memwatcher` above) and it interacts well with ipython, so it is worth to see how it works:"
   ]
  },
  {
   "cell_type": "code",
   "execution_count": 8,
   "metadata": {
    "collapsed": false
   },
   "outputs": [
    {
     "name": "stdout",
     "output_type": "stream",
     "text": [
      "In [8] used 0.004 MiB RAM in 0.001s, peaked 0.000 MiB above current, total RAM usage 63.031 MiB\n"
     ]
    }
   ],
   "source": [
    "%load_ext memory_profiler"
   ]
  },
  {
   "cell_type": "code",
   "execution_count": 9,
   "metadata": {
    "collapsed": false
   },
   "outputs": [
    {
     "name": "stdout",
     "output_type": "stream",
     "text": [
      "peak memory: 134.00 MiB, increment: 70.97 MiB\n",
      "In [9] used 71.121 MiB RAM in 0.330s, peaked 0.000 MiB above current, total RAM usage 134.152 MiB\n"
     ]
    }
   ],
   "source": [
    "# Use %memit magic command exposed by memory_profiler\n",
    "%memit b = [i for i in range(1000*1000)]"
   ]
  },
  {
   "cell_type": "markdown",
   "metadata": {},
   "source": [
    "Please note that the `peak_memory` in this case is different than the `peaked_memory` reported by ipython_memwatcher package."
   ]
  },
  {
   "cell_type": "markdown",
   "metadata": {},
   "source": [
    "## Guppy"
   ]
  },
  {
   "cell_type": "markdown",
   "metadata": {},
   "source": [
    "Guppy is nice for having an overview of how different structures are using our memory:"
   ]
  },
  {
   "cell_type": "code",
   "execution_count": 10,
   "metadata": {
    "collapsed": false
   },
   "outputs": [
    {
     "data": {
      "text/plain": [
       "Partition of a set of 2128731 objects. Total size = 83076464 bytes.\n",
       " Index  Count   %     Size   % Cumulative  % Kind (class / dict of class)\n",
       "     0 2002852  94 48068448  58  48068448  58 int\n",
       "     1   1231   0 16443512  20  64511960  78 list\n",
       "     2  58644   3  5120424   6  69632384  84 str\n",
       "     3  31176   1  2673888   3  72306272  87 tuple\n",
       "     4   1606   0  1696144   2  74002416  89 dict (no owner)\n",
       "     5    463   0  1331560   2  75333976  91 dict of module\n",
       "     6   8024   0  1027072   1  76361048  92 types.CodeType\n",
       "     7      2   0   983968   1  77345016  93 guppy.heapy.heapyc.NodeGraph\n",
       "     8   7865   0   943800   1  78288816  94 function\n",
       "     9    941   0   847816   1  79136632  95 type\n",
       "<572 more rows. Type e.g. '_.more' to view.>"
      ]
     },
     "execution_count": 10,
     "metadata": {},
     "output_type": "execute_result"
    },
    {
     "name": "stdout",
     "output_type": "stream",
     "text": [
      "In [10] used 68.035 MiB RAM in 3.065s, peaked 0.000 MiB above current, total RAM usage 202.188 MiB\n"
     ]
    }
   ],
   "source": [
    "from guppy import hpy; hp=hpy()\n",
    "hp.heap()"
   ]
  },
  {
   "cell_type": "code",
   "execution_count": 11,
   "metadata": {
    "collapsed": false
   },
   "outputs": [
    {
     "data": {
      "text/plain": [
       "Partition of a set of 1128950 objects. Total size = 50953432 bytes.\n",
       " Index  Count   %     Size   % Cumulative  % Kind (class / dict of class)\n",
       "     0 1003107  89 24074568  47  24074568  47 int\n",
       "     1   1222   0  8316400  16  32390968  64 list\n",
       "     2  58646   5  5120600  10  37511568  74 str\n",
       "     3  31177   3  2673976   5  40185544  79 tuple\n",
       "     4   1609   0  1698520   3  41884064  82 dict (no owner)\n",
       "     5    463   0  1331560   3  43215624  85 dict of module\n",
       "     6   8024   1  1027072   2  44242696  87 types.CodeType\n",
       "     7      2   0   983600   2  45226296  89 guppy.heapy.heapyc.NodeGraph\n",
       "     8   7865   1   943800   2  46170096  91 function\n",
       "     9    941   0   847816   2  47017912  92 type\n",
       "<568 more rows. Type e.g. '_.more' to view.>"
      ]
     },
     "execution_count": 11,
     "metadata": {},
     "output_type": "execute_result"
    },
    {
     "name": "stdout",
     "output_type": "stream",
     "text": [
      "In [11] used 2.707 MiB RAM in 0.704s, peaked 0.000 MiB above current, total RAM usage 204.895 MiB\n"
     ]
    }
   ],
   "source": [
    "del b\n",
    "hp.heap()"
   ]
  },
  {
   "cell_type": "code",
   "execution_count": 12,
   "metadata": {
    "collapsed": false
   },
   "outputs": [
    {
     "data": {
      "text/plain": [
       "Partition of a set of 1 object. Total size = 8126536 bytes.\n",
       " Index  Count   %     Size   % Cumulative  % Kind (class / dict of class)\n",
       "     0      1 100  8126536 100   8126536 100 list"
      ]
     },
     "execution_count": 12,
     "metadata": {},
     "output_type": "execute_result"
    },
    {
     "name": "stdout",
     "output_type": "stream",
     "text": [
      "In [12] used 0.027 MiB RAM in 0.014s, peaked 0.000 MiB above current, total RAM usage 204.922 MiB\n"
     ]
    }
   ],
   "source": [
    "# Size of the list (beware, this does not include the contents!)\n",
    "hp.iso(a)"
   ]
  },
  {
   "cell_type": "markdown",
   "metadata": {
    "collapsed": true
   },
   "source": [
    "## %time and %timeit"
   ]
  },
  {
   "cell_type": "code",
   "execution_count": 13,
   "metadata": {
    "collapsed": false
   },
   "outputs": [
    {
     "name": "stdout",
     "output_type": "stream",
     "text": [
      "CPU times: user 4 ms, sys: 0 ns, total: 4 ms\n",
      "Wall time: 7.32 ms\n",
      "In [13] used 0.012 MiB RAM in 0.009s, peaked 0.000 MiB above current, total RAM usage 204.934 MiB\n"
     ]
    }
   ],
   "source": [
    "# IPython provides a magic command to see how much time a command takes to run\n",
    "%time asum = sum(a)"
   ]
  },
  {
   "cell_type": "markdown",
   "metadata": {},
   "source": [
    "Note that `%time` offers quite detailed statistics on the time spent.\n",
    "\n",
    "Also, the time reported by MemoryWatcher has a typical overhead of 1~5 ms over the time reported by %time, so when the times to measure are about this order then it is better to rely on the %time (or %timeit below) values.  "
   ]
  },
  {
   "cell_type": "code",
   "execution_count": 14,
   "metadata": {
    "collapsed": false
   },
   "outputs": [
    {
     "name": "stdout",
     "output_type": "stream",
     "text": [
      "100 loops, best of 3: 7.04 ms per loop\n",
      "In [14] used 0.035 MiB RAM in 2.931s, peaked 0.000 MiB above current, total RAM usage 204.969 MiB\n"
     ]
    }
   ],
   "source": [
    "# We have another way to measure timings doing several loops and getting the mean\n",
    "%timeit bsum = sum(a)\n",
    "# However, one must notice that %timeit does not return the result of expressions"
   ]
  },
  {
   "cell_type": "markdown",
   "metadata": {},
   "source": [
    "Interestingly, %timeit allows to retrieve the measured times in loops with the -o flag:"
   ]
  },
  {
   "cell_type": "code",
   "execution_count": 15,
   "metadata": {
    "collapsed": false
   },
   "outputs": [
    {
     "name": "stdout",
     "output_type": "stream",
     "text": [
      "100 loops, best of 3: 6.94 ms per loop\n",
      "[0.7369999885559082, 0.6935329437255859, 0.6994690895080566]\n",
      "0.00693532943726\n",
      "In [15] used 0.008 MiB RAM in 2.984s, peaked 0.000 MiB above current, total RAM usage 204.977 MiB\n"
     ]
    }
   ],
   "source": [
    "t = %timeit -o sum(a)\n",
    "print(t.all_runs)\n",
    "print(t.best)"
   ]
  },
  {
   "cell_type": "markdown",
   "metadata": {},
   "source": [
    "And one can specify the number of loops (-n) and the number of repetitions (-r):"
   ]
  },
  {
   "cell_type": "code",
   "execution_count": 16,
   "metadata": {
    "collapsed": false
   },
   "outputs": [
    {
     "name": "stdout",
     "output_type": "stream",
     "text": [
      "1 loops, best of 1: 7.28 ms per loop\n",
      "[0.007275104522705078]\n",
      "0.00727510452271\n",
      "In [16] used 0.000 MiB RAM in 0.026s, peaked 0.000 MiB above current, total RAM usage 204.977 MiB\n"
     ]
    }
   ],
   "source": [
    "t = %timeit -r1 -n1 -o sum(a)\n",
    "print(t.all_runs)\n",
    "print(t.best)"
   ]
  },
  {
   "cell_type": "markdown",
   "metadata": {},
   "source": [
    "### Exercise 1\n",
    "\n",
    "Provided a dictionary like:\n",
    "\n",
    "```\n",
    "d = dict((\"key: %i\"%i, i*2) for i in a)\n",
    "```\n",
    "\n",
    "Try to guess how much RAM it uses using the techniques introduced above.\n",
    "\n",
    "Why do you think it takes more space than a list?\n",
    "\n",
    "*Hint*: Every entry in a dictionary has pointers to two objects: key and value. "
   ]
  },
  {
   "cell_type": "markdown",
   "metadata": {
    "collapsed": true
   },
   "source": [
    "## Solution"
   ]
  },
  {
   "cell_type": "code",
   "execution_count": 17,
   "metadata": {
    "collapsed": false
   },
   "outputs": [
    {
     "name": "stdout",
     "output_type": "stream",
     "text": [
      "In [17] used 94.512 MiB RAM in 0.906s, peaked 0.000 MiB above current, total RAM usage 299.488 MiB\n"
     ]
    }
   ],
   "source": [
    "d = dict((\"key: %i\"%i, i*2) for i in a)"
   ]
  },
  {
   "cell_type": "code",
   "execution_count": 18,
   "metadata": {
    "collapsed": false
   },
   "outputs": [
    {
     "data": {
      "text/plain": [
       "72"
      ]
     },
     "execution_count": 18,
     "metadata": {},
     "output_type": "execute_result"
    },
    {
     "name": "stdout",
     "output_type": "stream",
     "text": [
      "In [18] used 0.004 MiB RAM in 0.002s, peaked 0.000 MiB above current, total RAM usage 299.492 MiB\n"
     ]
    }
   ],
   "source": [
    "# Compute the size of key + value\n",
    "sys.getsizeof(\"key: 100000\") + sys.getsizeof(1)"
   ]
  },
  {
   "cell_type": "code",
   "execution_count": 19,
   "metadata": {
    "collapsed": false
   },
   "outputs": [
    {
     "data": {
      "text/plain": [
       "30.517578125"
      ]
     },
     "execution_count": 19,
     "metadata": {},
     "output_type": "execute_result"
    },
    {
     "name": "stdout",
     "output_type": "stream",
     "text": [
      "In [19] used 0.000 MiB RAM in 0.012s, peaked 0.000 MiB above current, total RAM usage 299.492 MiB\n"
     ]
    }
   ],
   "source": [
    "# Compute the size of a Python object + pointers for all elements in MB\n",
    "(16 + 8 + 8) * 1000*1000 / 2**20."
   ]
  },
  {
   "cell_type": "code",
   "execution_count": 20,
   "metadata": {
    "collapsed": false
   },
   "outputs": [
    {
     "data": {
      "text/plain": [
       "Partition of a set of 1 object. Total size = 50331928 bytes.\n",
       " Index  Count   %     Size   % Cumulative  % Kind (class / dict of class)\n",
       "     0      1 100 50331928 100  50331928 100 dict (no owner)"
      ]
     },
     "execution_count": 20,
     "metadata": {},
     "output_type": "execute_result"
    },
    {
     "name": "stdout",
     "output_type": "stream",
     "text": [
      "In [20] used 0.000 MiB RAM in 0.588s, peaked 0.000 MiB above current, total RAM usage 299.492 MiB\n"
     ]
    }
   ],
   "source": [
    "# Using guppy\n",
    "hp.iso(d)"
   ]
  },
  {
   "cell_type": "markdown",
   "metadata": {},
   "source": [
    "So, guppy is telling us that just the dictionary structure is taking ~50 MB, whereas the contents alone are taking ~70MB, so we should have expected the dictionary to consume ~120 MB.  However, our `MemWatcher` instance is reporting just ~100 MB.  Take away lesson: measuring memory consumption in Python is tricky but using proper tools we can still get valuable hints!"
   ]
  },
  {
   "cell_type": "code",
   "execution_count": null,
   "metadata": {
    "collapsed": true
   },
   "outputs": [],
   "source": []
  }
 ],
 "metadata": {
  "kernelspec": {
   "display_name": "Python 2",
   "language": "python",
   "name": "python2"
  },
  "language_info": {
   "codemirror_mode": {
    "name": "ipython",
    "version": 2
   },
   "file_extension": ".py",
   "mimetype": "text/x-python",
   "name": "python",
   "nbconvert_exporter": "python",
   "pygments_lexer": "ipython2",
   "version": "2.7.10"
  }
 },
 "nbformat": 4,
 "nbformat_minor": 0
}
